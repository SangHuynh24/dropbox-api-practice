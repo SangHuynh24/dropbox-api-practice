{
 "cells": [
  {
   "cell_type": "markdown",
   "id": "22aff29c",
   "metadata": {},
   "source": [
    "Install dropbox library"
   ]
  },
  {
   "cell_type": "code",
   "execution_count": 1,
   "id": "ab357b15",
   "metadata": {},
   "outputs": [
    {
     "name": "stdout",
     "output_type": "stream",
     "text": [
      "Requirement already satisfied: dropbox in c:\\users\\sang.huynh\\anaconda3\\lib\\site-packages (11.36.2)\n",
      "Requirement already satisfied: six>=1.12.0 in c:\\users\\sang.huynh\\appdata\\roaming\\python\\python39\\site-packages (from dropbox) (1.16.0)\n",
      "Requirement already satisfied: stone>=2 in c:\\users\\sang.huynh\\anaconda3\\lib\\site-packages (from dropbox) (3.3.3)\n",
      "Requirement already satisfied: requests>=2.16.2 in c:\\users\\sang.huynh\\anaconda3\\lib\\site-packages (from dropbox) (2.28.1)\n",
      "Requirement already satisfied: urllib3<1.27,>=1.21.1 in c:\\users\\sang.huynh\\anaconda3\\lib\\site-packages (from requests>=2.16.2->dropbox) (1.26.11)\n",
      "Requirement already satisfied: charset-normalizer<3,>=2 in c:\\users\\sang.huynh\\anaconda3\\lib\\site-packages (from requests>=2.16.2->dropbox) (2.0.4)\n",
      "Requirement already satisfied: idna<4,>=2.5 in c:\\users\\sang.huynh\\anaconda3\\lib\\site-packages (from requests>=2.16.2->dropbox) (3.3)\n",
      "Requirement already satisfied: certifi>=2017.4.17 in c:\\users\\sang.huynh\\anaconda3\\lib\\site-packages (from requests>=2.16.2->dropbox) (2022.6.15)\n",
      "Requirement already satisfied: ply>=3.4 in c:\\users\\sang.huynh\\anaconda3\\lib\\site-packages (from stone>=2->dropbox) (3.11)\n",
      "Note: you may need to restart the kernel to use updated packages.\n"
     ]
    },
    {
     "name": "stderr",
     "output_type": "stream",
     "text": [
      "Error processing line 3 of c:\\Users\\sang.huynh\\Anaconda3\\lib\\site-packages\\googleapis_common_protos-1.56.4-py3.10-nspkg.pth:\n",
      "\n",
      "  Traceback (most recent call last):\n",
      "    File \"c:\\Users\\sang.huynh\\Anaconda3\\lib\\site.py\", line 169, in addpackage\n",
      "      exec(line)\n",
      "    File \"<string>\", line 1, in <module>\n",
      "    File \"<frozen importlib._bootstrap>\", line 562, in module_from_spec\n",
      "  AttributeError: 'NoneType' object has no attribute 'loader'\n",
      "\n",
      "Remainder of file ignored\n"
     ]
    }
   ],
   "source": [
    "pip install dropbox"
   ]
  },
  {
   "cell_type": "markdown",
   "id": "2ec0ef9d",
   "metadata": {},
   "source": [
    "### Get the ACCESS_TOKEN from DROPBOX DEVELOPERS for BUSINESS TEAM:\n",
    "\n",
    "- Access https://www.dropbox.com/developers -> select App Console -> generate Access Token.\n",
    "- Please notice that each Access Token only valids in 4 hours. We have to get the new Token after every 4 hours if needed."
   ]
  },
  {
   "cell_type": "code",
   "execution_count": 2,
   "id": "bde9b98d",
   "metadata": {},
   "outputs": [],
   "source": [
    "user_name = 'xxx@domain.com'\n",
    "pass_word = 'xxxx'\n",
    "admin_id = 'dbmid:xxxxxx'\n",
    "ACCESS_TOKEN = 'sl.xxxxx'"
   ]
  },
  {
   "cell_type": "markdown",
   "id": "1318b915",
   "metadata": {},
   "source": [
    "Authentication Types: https://www.dropbox.com/developers/reference/auth-types#admin-authentication"
   ]
  },
  {
   "cell_type": "markdown",
   "id": "5fbb9017",
   "metadata": {},
   "source": [
    "See this link to get API request/post format: https://www.dropbox.com/developers/reference/auth-types#user-authentication"
   ]
  },
  {
   "cell_type": "markdown",
   "id": "ba365633",
   "metadata": {},
   "source": [
    "### Step 1: List all Namespace ID in your Dropbox\n",
    "Namespaces là bự nhất chứa các folders, để quét hết Dropbox cần chạy loop hết các Namespaces"
   ]
  },
  {
   "cell_type": "code",
   "execution_count": 10,
   "id": "79815bcc",
   "metadata": {},
   "outputs": [
    {
     "name": "stdout",
     "output_type": "stream",
     "text": [
      "Folder 'dropbox_test' created successfully.\n",
      "number of namesapces in Dropbox:  605\n",
      "{'name': 'Sample Folder', 'namespace_id': '6906198080', 'namespace_type': {'.tag': 'shared_folder'}}\n"
     ]
    }
   ],
   "source": [
    "### List all members in a Dropbox:\n",
    "import requests\n",
    "import pandas as pd\n",
    "import os\n",
    "# API endpoint URL to list members of the team\n",
    "url = 'https://api.dropboxapi.com/2/team/namespaces/list'\n",
    "\n",
    "# Headers containing the access token\n",
    "headers = {\n",
    "    'Authorization': f'Bearer {ACCESS_TOKEN}'\n",
    "}\n",
    "\n",
    "# Make the API request\n",
    "response = requests.post(url, headers=headers)\n",
    "\n",
    "# Check if the request was successful\n",
    "if response.status_code == 200:\n",
    "    # Print the response data\n",
    "    namespace_list = response.json()\n",
    "else:\n",
    "    # Print error message if the request failed\n",
    "    print(f\"Error: {response.status_code} - {response.text}\")\n",
    "\n",
    "\n",
    "def create_folder_if_not_exists(folder_path):\n",
    "    if not os.path.exists(folder_path):\n",
    "        os.makedirs(folder_path)\n",
    "        print(f\"Folder '{folder_path}' created successfully.\")\n",
    "    else:\n",
    "        print(f\"Folder '{folder_path}' already exists.\")\n",
    "\n",
    "# Specify the path of the folder you want to create\n",
    "folder_path = \"dropbox_test\"\n",
    "\n",
    "# Call the function to create the folder\n",
    "create_folder_if_not_exists(folder_path)\n",
    "namespace_path = f'{folder_path}/namespace_list.txt'\n",
    "\n",
    "# Convert list to string for export file:\n",
    "namespace_list_str = str(namespace_list)\n",
    "# Open a file in write mode ('w')\n",
    "with open(namespace_path, \"w\") as file:\n",
    "    # Write the string to the file\n",
    "    file.write(namespace_list_str)\n",
    "\n",
    "print('number of namesapces in Dropbox: ', len(namespace_list['namespaces']))\n",
    "print(namespace_list['namespaces'][1])"
   ]
  },
  {
   "cell_type": "markdown",
   "id": "8ecdd3a4",
   "metadata": {},
   "source": [
    "### Step 2: Access All Files and Folders in a Namespace:\n",
    "Ở đây đang chạy cho namespace: Sample Folder"
   ]
  },
  {
   "cell_type": "code",
   "execution_count": 7,
   "id": "0554b860",
   "metadata": {},
   "outputs": [],
   "source": [
    "def get_all_files_folders(entries_lists):\n",
    "    list_files = []\n",
    "    list_folder = []\n",
    "    parent_folder_name = entries_lists['parent_folder_name']\n",
    "    for item in entries_lists['entries_lists']:        \n",
    "        if item['.tag'] == 'folder':\n",
    "            folder_name = item['name']\n",
    "            folder_properties = {\n",
    "            'folder_name': folder_name,\n",
    "            'folder_path_name': f'{parent_folder_name}/{folder_name}',\n",
    "            'folder_path_id': item['id']\n",
    "            } \n",
    "            list_folder.append(folder_properties)\n",
    "            # print(f'folder {parent_folder_name}/{folder_name} is added!')\n",
    "        elif item['.tag'] == 'file':\n",
    "            file_name = item['name']\n",
    "            file_properties = {\n",
    "            'file_name': file_name,\n",
    "            'file_path':  f'{parent_folder_name}/',\n",
    "            'file_id': item['id'],\n",
    "            'client_modified': item['client_modified'],\n",
    "            'server_modified': item['server_modified'],\n",
    "            'size': item['size'],\n",
    "            'is_downloadable': item['is_downloadable'],\n",
    "            'content_hash': item['content_hash']\n",
    "            }\n",
    "            list_files.append(file_properties)\n",
    "            # print(f'file {parent_folder_name}/{file_name} is added!')\n",
    "    return(list_files, list_folder)"
   ]
  },
  {
   "cell_type": "code",
   "execution_count": 17,
   "id": "a1642c9c",
   "metadata": {},
   "outputs": [
    {
     "name": "stdout",
     "output_type": "stream",
     "text": [
      "Folder 'dropbox_test/03 Current Deals' already exists.\n",
      "03 Current Deals/ number of objects:  4344\n"
     ]
    }
   ],
   "source": [
    "\n",
    "import json\n",
    "# Tạo function đêt lấy list folders trong namespace:\n",
    "def get_folder_lists_API(output_folder_path, parent_folder_path_id,parent_folder_path, parent_folder_name, admin_id,ACCESS_TOKEN):\n",
    "\n",
    "    entries_lists = []\n",
    "    no = 1\n",
    "    # API endpoint URL to list members of the team\n",
    "    url = 'https://api.dropboxapi.com/2/files/list_folder'\n",
    "    # Headers containing the access token\n",
    "    headers = {\n",
    "        'Authorization': f'Bearer {ACCESS_TOKEN}',\n",
    "        'Content-Type': 'application/json',\n",
    "        \"Dropbox-API-Select-Admin\": admin_id\n",
    "        # 'Dropbox-API-path_Root': {\".tag\": \"root\", \"root\": namespace_id}\n",
    "    }\n",
    "   \n",
    "    # Body:\n",
    "    data = {\n",
    "    \"path\": parent_folder_path_id,\n",
    "    \"recursive\": True\n",
    "    }\n",
    "\n",
    "    # Make the API request\n",
    "    response = requests.post(url, headers=headers, data=json.dumps(data))\n",
    "\n",
    "    # Check if the request was successful\n",
    "    if response.status_code == 200:\n",
    "        # Print the response data\n",
    "        lists_df = response.json()\n",
    "        entries_lists.extend(lists_df['entries'])\n",
    "        # print(len(entries_lists), no)\n",
    "    else:\n",
    "        # Print error message if the request failed\n",
    "        print(f\"Error: {response.status_code} - {response.text}\")\n",
    "    \n",
    "    while lists_df['has_more']:\n",
    "        no = no + 1\n",
    "        cursor = lists_df['cursor']\n",
    "        url = 'https://api.dropboxapi.com/2/files/list_folder/continue'\n",
    "\n",
    "        # Headers containing the access token\n",
    "        headers = {\n",
    "            'Authorization': f'Bearer {ACCESS_TOKEN}',\n",
    "            'Content-Type': 'application/json',\n",
    "            \"Dropbox-API-Select-Admin\": admin_id\n",
    "            # 'Dropbox-API-path_Root': {\".tag\": \"root\", \"root\": namespace_id}\n",
    "        }\n",
    "        # Body:\n",
    "        data = {\n",
    "        \"cursor\": cursor\n",
    "        }\n",
    "\n",
    "        # Make the API request\n",
    "        response = requests.post(url, headers=headers, data=json.dumps(data))\n",
    "\n",
    "        # Check if the request was successful\n",
    "        if response.status_code == 200:\n",
    "            # Print the response data\n",
    "            lists_df = response.json()\n",
    "            entries_lists.extend(lists_df['entries'])\n",
    "            # print(len(entries_lists), no)\n",
    "\n",
    "        else:\n",
    "            # Print error message if the request failed\n",
    "            print(f\"Error: {response.status_code} - {response.text}\")        \n",
    "    \n",
    "    parent_entries = {  \"parent_folder_name\": parent_folder_name,\n",
    "                        \"parent_folder_path\": parent_folder_path,\n",
    "                        \"entries_lists\": entries_lists }\n",
    "    \n",
    "    # Call the function to create the folder\n",
    "    create_folder_if_not_exists(output_folder_path)\n",
    "\n",
    "    file_id = parent_folder_path_id.split(':')[1]\n",
    "    parent_entries_path = f'{output_folder_path}/parent_entries_{file_id}.txt'\n",
    "    parent_entries_str = str(parent_entries)\n",
    "    # Open a file in write mode ('w')\n",
    "    with open(parent_entries_path, \"w\") as file:\n",
    "        # Write the string to the file\n",
    "        file.write(parent_entries_str)\n",
    "    \n",
    "    print(parent_folder_path, 'number of objects: ', len(entries_lists))\n",
    "\n",
    "\n",
    "    return(parent_entries)\n",
    "\n",
    "# chạy cho namespace 03 Current Deal:\n",
    "namespace = namespace_list['namespaces'][4]\n",
    "namespace_id = namespace['namespace_id']\n",
    "parent_folder_path_id = f'ns:{namespace_id}'\n",
    "parent_folder_name = namespace['name']\n",
    "parent_folder_path = f'{parent_folder_name}/'\n",
    "output_folder_path = f'dropbox_test/{parent_folder_name}'\n",
    "namespace_folders_list = get_folder_lists_API(output_folder_path, parent_folder_path_id,parent_folder_path, parent_folder_name, admin_id,ACCESS_TOKEN)\n"
   ]
  },
  {
   "cell_type": "markdown",
   "id": "c4cc4903",
   "metadata": {},
   "source": [
    "### Step 3: Get all files in all folders in a namespace\n",
    "Using recursive function to get data with infinited loops"
   ]
  },
  {
   "cell_type": "code",
   "execution_count": 11,
   "id": "aaf0ca7d",
   "metadata": {},
   "outputs": [],
   "source": [
    "def get_all_files_folders(entries_lists):\n",
    "    list_files = []\n",
    "    list_folder = []\n",
    "    parent_folder_name = entries_lists['parent_folder_name']\n",
    "    for item in entries_lists['entries_lists']:        \n",
    "        if item['.tag'] == 'folder':\n",
    "            folder_name = item['name']\n",
    "            folder_properties = {\n",
    "            'folder_name': folder_name,\n",
    "            'folder_path_name': f'{parent_folder_name}/{folder_name}',\n",
    "            'folder_path_id': item['id']\n",
    "            } \n",
    "            list_folder.append(folder_properties)\n",
    "            print(f'folder {parent_folder_name}/{folder_name} is added!')\n",
    "        elif item['.tag'] == 'file':\n",
    "            file_name = item['name']\n",
    "            file_properties = {\n",
    "            'file_name': file_name,\n",
    "            'file_path':  f'{parent_folder_name}/',\n",
    "            'file_id': item['id'],\n",
    "            'client_modified': item['client_modified'],\n",
    "            'server_modified': item['server_modified'],\n",
    "            'size': item['size'],\n",
    "            'is_downloadable': item['is_downloadable'],\n",
    "            'content_hash': item['content_hash']\n",
    "            }\n",
    "            list_files.append(file_properties)\n",
    "            print(f'file {parent_folder_name}/{file_name} is added!')\n",
    "    return(list_files, list_folder)\n",
    "# list_files, list_folder = get_all_files_folders(namespace_folders_list)"
   ]
  },
  {
   "cell_type": "markdown",
   "id": "d64cd080",
   "metadata": {},
   "source": [
    "### Step 5: Extract modified files from the file list"
   ]
  },
  {
   "cell_type": "code",
   "execution_count": null,
   "id": "4c828556",
   "metadata": {},
   "outputs": [],
   "source": [
    "# generate dataframe of file list:   \n",
    "columns = list(list_files[0].keys())\n",
    "list_files_df = pd.DataFrame(list_files, columns=columns)\n",
    "list_files_df.head()"
   ]
  },
  {
   "cell_type": "code",
   "execution_count": null,
   "id": "a9410b20",
   "metadata": {},
   "outputs": [],
   "source": [
    "import datetime\n",
    "last_migration_time = datetime.datetime.now()\n",
    "list_files_df[list_files_df['client_modified'] >= last_migration_time or \\\n",
    "              list_files_df['server_modified'] >= last_migration_time]"
   ]
  },
  {
   "cell_type": "markdown",
   "id": "7be73c36",
   "metadata": {},
   "source": [
    "Download files from Dropbox"
   ]
  },
  {
   "cell_type": "code",
   "execution_count": 40,
   "id": "431aca2f",
   "metadata": {},
   "outputs": [
    {
     "name": "stdout",
     "output_type": "stream",
     "text": [
      "14. The Home Staging Invoice 341.pdf downloaded successfully.\n"
     ]
    }
   ],
   "source": [
    "import os\n",
    "\n",
    "def download_files_Dropbox(file_id, folder_path):\n",
    "    url = 'https://content.dropboxapi.com/2/files/download'\n",
    "\n",
    "    # Define the folder where you want to save the file\n",
    "    folder_path = './downloaded_folder/'\n",
    "\n",
    "    # Create the folder if it doesn't exist\n",
    "    if not os.path.exists(folder_path):\n",
    "        os.makedirs(folder_path)\n",
    "        \n",
    "    file_path = os.path.join(folder_path, os.path.basename(file_name))\n",
    "\n",
    "    path_id = '\"\\\"path\\\": \\\"' +   file_id + '\\\"}\"'\n",
    "\n",
    "    # Headers containing the access token\n",
    "    headers = {\n",
    "        'Authorization': f'Bearer {ACCESS_TOKEN}',\n",
    "        \"Dropbox-API-Select-Admin\": admin_id,\n",
    "        'Dropbox-API-Arg': path_id\n",
    "    }\n",
    "\n",
    "\n",
    "    # Make the API request\n",
    "    response = requests.post(url, headers=headers)\n",
    "\n",
    "    # Check if the request was successful\n",
    "    if response.status_code == 200:\n",
    "        # Write the downloaded content to a file\n",
    "        with open(f'{file_path}', 'wb') as f:\n",
    "            f.write(response.content)\n",
    "        print(f\"{file_name} downloaded successfully.\")\n",
    "    else:\n",
    "        # Print error message if download failed\n",
    "        print(\"Error:\", response.status_code, response.text)\n",
    "\n",
    "\n",
    "file_id = list_files_namespace[43]['file_id']\n",
    "file_name = list_files_namespace[43]['file_name']\n",
    "download_files_Dropbox(file_id, folder_path)"
   ]
  }
 ],
 "metadata": {
  "kernelspec": {
   "display_name": "Python 3 (ipykernel)",
   "language": "python",
   "name": "python3"
  },
  "language_info": {
   "codemirror_mode": {
    "name": "ipython",
    "version": 3
   },
   "file_extension": ".py",
   "mimetype": "text/x-python",
   "name": "python",
   "nbconvert_exporter": "python",
   "pygments_lexer": "ipython3",
   "version": "3.9.12"
  }
 },
 "nbformat": 4,
 "nbformat_minor": 5
}
